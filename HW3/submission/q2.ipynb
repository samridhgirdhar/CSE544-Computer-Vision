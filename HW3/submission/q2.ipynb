{
 "cells": [
  {
   "cell_type": "code",
   "execution_count": null,
   "id": "0e805733",
   "metadata": {},
   "outputs": [
    {
     "name": "stdout",
     "output_type": "stream",
     "text": [
      "Dog: in man's arms\n",
      "Man: living room\n"
     ]
    }
   ],
   "source": [
    "import torch\n",
    "from PIL import Image\n",
    "from transformers import BlipProcessor, BlipForQuestionAnswering\n",
    "\n",
    "# ------------ config ------------\n",
    "IMAGE_PATH = \"/home/iiitd/finetuningDeepseek/cva3/q1/sample_image.jpg\"\n",
    "device     = \"cuda:1\" if torch.cuda.is_available() else \"cpu\"\n",
    "\n",
    "# ------------ load --------------\n",
    "processor = BlipProcessor.from_pretrained(\"Salesforce/blip-vqa-base\")\n",
    "model     = (\n",
    "    BlipForQuestionAnswering\n",
    "    .from_pretrained(\"Salesforce/blip-vqa-base\")\n",
    "    .to(device)\n",
    "    .eval()\n",
    ")\n",
    "\n",
    "# ------------ helper ------------\n",
    "def answer(q: str) -> str:\n",
    "    image   = Image.open(IMAGE_PATH).convert(\"RGB\")\n",
    "    inputs  = processor(image, q, return_tensors=\"pt\").to(device)\n",
    "    with torch.no_grad():\n",
    "        out = model.generate(**inputs, max_length=20)\n",
    "    return processor.decode(out[0], skip_special_tokens=True)\n",
    "\n",
    "# ------------ run ---------------\n",
    "print(\"Dog:\", answer(\"Where is the dog present in the image?\"))\n",
    "print(\"Man:\", answer(\"Where is the man present in the image?\"))\n"
   ]
  },
  {
   "cell_type": "markdown",
   "id": "eaad16f2",
   "metadata": {},
   "source": [
    "Comment on accuracy:\n",
    "Both of those are spot on:\n",
    "\n",
    "- **Dog: “in man’s arms”**  \n",
    "  The dog really is being cradled in his arms—no finer localization needed.  \n",
    "\n",
    "- **Man: “living room”**  \n",
    "  The man is standing indoors in what looks like a living room (bookshelf, games, wood floor)—so “living room” is a perfectly reasonable answer to “Where is the man present?”  \n",
    "\n",
    "In short, BLIP’s VQA head gave concise, accurate spatial answers for both questions."
   ]
  }
 ],
 "metadata": {
  "kernelspec": {
   "display_name": "sg_ip",
   "language": "python",
   "name": "python3"
  },
  "language_info": {
   "codemirror_mode": {
    "name": "ipython",
    "version": 3
   },
   "file_extension": ".py",
   "mimetype": "text/x-python",
   "name": "python",
   "nbconvert_exporter": "python",
   "pygments_lexer": "ipython3",
   "version": "3.10.16"
  }
 },
 "nbformat": 4,
 "nbformat_minor": 5
}
