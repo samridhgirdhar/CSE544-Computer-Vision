{
 "cells": [
  {
   "cell_type": "code",
   "execution_count": null,
   "metadata": {},
   "outputs": [
    {
     "name": "stdout",
     "output_type": "stream",
     "text": [
      "Requirement already satisfied: opencv-python in /home/iiitd/miniconda3/envs/samridh/lib/python3.12/site-packages (4.11.0.86)\n",
      "Requirement already satisfied: numpy in /home/iiitd/miniconda3/envs/samridh/lib/python3.12/site-packages (1.26.2)\n"
     ]
    }
   ],
   "source": [
    "!pip install opencv-python numpy"
   ]
  },
  {
   "cell_type": "code",
   "execution_count": 1,
   "metadata": {},
   "outputs": [],
   "source": [
    "import cv2\n",
    "import numpy as np\n",
    "import json\n",
    "import glob"
   ]
  },
  {
   "cell_type": "code",
   "execution_count": 2,
   "metadata": {},
   "outputs": [],
   "source": [
    "CHECKERBOARD = (8, 6) "
   ]
  },
  {
   "cell_type": "code",
   "execution_count": 3,
   "metadata": {},
   "outputs": [],
   "source": [
    "image_files = sorted(glob.glob(\"chessboard_dataset/*.jpeg\"))"
   ]
  },
  {
   "cell_type": "code",
   "execution_count": null,
   "metadata": {},
   "outputs": [],
   "source": [
    "\n",
    "criteria = (cv2.TERM_CRITERIA_EPS + cv2.TERM_CRITERIA_MAX_ITER, 30, 0.001)\n",
    "\n",
    "objp = np.zeros((CHECKERBOARD[0]*CHECKERBOARD[1], 3), np.float32)\n",
    "objp[:, :2] = np.mgrid[0:CHECKERBOARD[0], 0:CHECKERBOARD[1]].T.reshape(-1, 2)\n",
    "\n",
    "\n",
    "objpoints = []  # 3d points in the world coordinate system\n",
    "imgpoints = []  # 2d points in the image plane\n",
    "\n",
    "for fname in image_files:\n",
    "    img = cv2.imread(fname)\n",
    "    gray = cv2.cvtColor(img, cv2.COLOR_BGR2GRAY)\n",
    "\n",
    "    ret, corners = cv2.findChessboardCorners(gray, CHECKERBOARD, None)\n",
    "    if ret:\n",
    "        \n",
    "        corners_subpix = cv2.cornerSubPix(\n",
    "            gray, corners, (11, 11), (-1, -1), criteria\n",
    "        )\n",
    "        \n",
    "        \n",
    "        objpoints.append(objp)\n",
    "        imgpoints.append(corners_subpix)\n",
    "        \n",
    "        \n",
    "        cv2.drawChessboardCorners(img, CHECKERBOARD, corners_subpix, ret)\n",
    "        \n"
   ]
  },
  {
   "cell_type": "code",
   "execution_count": null,
   "metadata": {},
   "outputs": [
    {
     "name": "stdout",
     "output_type": "stream",
     "text": [
      "Calibration was successful? 0.5090677847546905\n",
      "Camera Matrix:\n",
      " [[956.63717905   0.         369.05488009]\n",
      " [  0.         957.55139544 651.41419152]\n",
      " [  0.           0.           1.        ]]\n",
      "Distortion Coeffs:\n",
      " [[ 0.19763675 -0.70686389  0.00336937  0.00698244  0.04877254]]\n"
     ]
    }
   ],
   "source": [
    "\n",
    "img_shape = cv2.imread(image_files[0]).shape\n",
    "h, w = img_shape[:2]\n",
    "\n",
    "\n",
    "ret, cameraMatrix, distCoeffs, rvecs, tvecs = cv2.calibrateCamera(\n",
    "    objpoints, imgpoints, (w, h), None, None\n",
    ")\n",
    "\n",
    "print(\"Calibration was successful?\", ret)  # ret is the overall RMS re-projection error\n",
    "print(\"Camera Matrix:\\n\", cameraMatrix)\n",
    "print(\"Distortion Coeffs:\\n\", distCoeffs)\n"
   ]
  },
  {
   "cell_type": "code",
   "execution_count": 8,
   "metadata": {},
   "outputs": [
    {
     "name": "stdout",
     "output_type": "stream",
     "text": [
      "Mean reprojection error =  0.5090677847546905\n"
     ]
    }
   ],
   "source": [
    "print(\"Mean reprojection error = \", ret)\n"
   ]
  },
  {
   "cell_type": "code",
   "execution_count": 9,
   "metadata": {},
   "outputs": [],
   "source": [
    "rotation_mats = []\n",
    "for rvec in rvecs:\n",
    "    R, _ = cv2.Rodrigues(rvec)\n",
    "    rotation_mats.append(R)"
   ]
  },
  {
   "cell_type": "code",
   "execution_count": null,
   "metadata": {},
   "outputs": [],
   "source": [
    "import json\n",
    "\n",
    "\n",
    "\n",
    "k1 = distCoeffs[0, 0]\n",
    "k2 = distCoeffs[0, 1]\n",
    "p1 = distCoeffs[0, 2]  # tangential\n",
    "p2 = distCoeffs[0, 3]  # tangential\n",
    "k3 = distCoeffs[0, 4]\n",
    "\n",
    "\n",
    "radial_coeffs = [ float(k1), float(k2), float(k3) ]\n",
    "\n",
    "\n",
    "fx = cameraMatrix[0, 0]\n",
    "fy = cameraMatrix[1, 1]\n",
    "skew = cameraMatrix[0, 1] \n",
    "cx = cameraMatrix[0, 2]\n",
    "cy = cameraMatrix[1, 2]\n",
    "\n",
    "\n",
    "\n",
    "all_errors = []\n",
    "for i in range(len(objpoints)):\n",
    "    \n",
    "    corners2, _ = cv2.projectPoints(\n",
    "        objpoints[i], rvecs[i], tvecs[i], cameraMatrix, distCoeffs\n",
    "    )\n",
    "    \n",
    "    diff = corners2.reshape(-1,2) - imgpoints[i].reshape(-1,2)\n",
    "    err = np.sqrt((diff**2).sum(axis=1))  \n",
    "    all_errors.extend(err.tolist())\n",
    "mean_error = np.mean(all_errors)\n",
    "std_dev = np.std(all_errors)\n",
    "\n",
    "\n",
    "\n",
    "\n",
    "\n",
    "extrinsics_list = []\n",
    "for i, (R, t) in enumerate(zip(rotation_mats, tvecs), start=1):\n",
    "    \n",
    "    R_list = R.tolist()\n",
    "    t_list = t.ravel().tolist()  \n",
    "    extrinsics_list.append({\n",
    "        \"image_id\": i,\n",
    "        \"rotation_matrix\": R_list,\n",
    "        \"translation_vector\": t_list\n",
    "    })\n",
    "\n",
    "\n",
    "calib_data = {\n",
    "    \"intrinsic_parameters\": {\n",
    "        \"focal_length\": [float(fx), float(fy)],\n",
    "        \"skew\": float(skew),\n",
    "        \"principal_point\": [float(cx), float(cy)]\n",
    "    },\n",
    "    \"extrinsic_parameters\": extrinsics_list,\n",
    "    \"radial_distortion_coefficients\": radial_coeffs,\n",
    "    \"reprojection_errors\": {\n",
    "        \"mean_error\": mean_error,\n",
    "        \"std_dev\": std_dev  \n",
    "    }\n",
    "}\n",
    "\n",
    "with open(\"2021282_parameters.json\", \"w\") as f:\n",
    "    json.dump(calib_data, f, indent=4)\n"
   ]
  },
  {
   "cell_type": "code",
   "execution_count": 11,
   "metadata": {},
   "outputs": [],
   "source": [
    "import os\n",
    "\n",
    "output_folder = \"undistorted_samples\"\n",
    "os.makedirs(output_folder, exist_ok=True)\n",
    "\n",
    "for i, fname in enumerate(image_files[:5], start=1):\n",
    "    img = cv2.imread(fname)\n",
    "    undistorted = cv2.undistort(img, cameraMatrix, distCoeffs)\n",
    "    outname = os.path.join(output_folder, f\"undistorted_{i}.jpg\")\n",
    "    cv2.imwrite(outname, undistorted)\n"
   ]
  },
  {
   "cell_type": "markdown",
   "metadata": {},
   "source": [
    "“After applying the estimated radial distortion coefficients, we undistorted five raw images. Because the lens in our device is not strongly wide‐angled, the geometric change near the edges is relatively subtle. Nonetheless, closer inspection (especially near image corners) shows slightly straighter horizontal/vertical lines compared to the original images.”"
   ]
  },
  {
   "cell_type": "code",
   "execution_count": null,
   "metadata": {},
   "outputs": [
    {
     "name": "stdout",
     "output_type": "stream",
     "text": [
      "Per-image errors: [0.2663171, 0.2759759, 0.51571685, 0.60863924, 0.53886455, 0.43892765, 0.51803553, 0.2763334, 0.25553098, 0.29681656, 0.39105615, 0.6767886, 0.29864118, 0.30683938, 0.5507497, 0.42796347, 0.21358149, 0.38495126, 0.4160246, 0.36440995, 0.57891196, 0.34996328, 0.57292753, 0.28274298, 0.6025495]\n",
      "Mean Reprojection Error =  0.41637036\n",
      "Std Deviation of Error =  0.13264434\n"
     ]
    },
    {
     "data": {
      "image/png": "[encoded data removed]",
      "text/plain": [
       "<Figure size 1000x500 with 1 Axes>"
      ]
     },
     "metadata": {},
     "output_type": "display_data"
    }
   ],
   "source": [
    "import cv2\n",
    "import numpy as np\n",
    "import matplotlib.pyplot as plt\n",
    "\n",
    "\n",
    "\n",
    "per_image_errors = []\n",
    "\n",
    "for i in range(len(objpoints)):\n",
    "\n",
    "    projected_points, _ = cv2.projectPoints(\n",
    "        objpoints[i], rvecs[i], tvecs[i],\n",
    "        cameraMatrix, distCoeffs\n",
    "    )\n",
    "    \n",
    "    projected_points = projected_points.reshape(-1, 2)\n",
    "    detected_points = imgpoints[i].reshape(-1, 2)\n",
    "\n",
    "    \n",
    "    diff = projected_points - detected_points\n",
    "    errors = np.linalg.norm(diff, axis=1)  \n",
    "    mean_error = np.mean(errors)\n",
    "    per_image_errors.append(mean_error)\n",
    "\n",
    "\n",
    "mean_error_all = np.mean(per_image_errors)\n",
    "std_error_all = np.std(per_image_errors)\n",
    "\n",
    "print(\"Per-image errors:\", per_image_errors)\n",
    "print(\"Mean Reprojection Error = \", mean_error_all)\n",
    "print(\"Std Deviation of Error = \", std_error_all)\n",
    "\n",
    "\n",
    "plt.figure(figsize=(10,5))\n",
    "plt.bar(range(1, len(per_image_errors)+1), per_image_errors, color='steelblue')\n",
    "plt.xlabel('Image Index')\n",
    "plt.ylabel('Reprojection Error (pixels)')\n",
    "plt.title('Per-Image Reprojection Error')\n",
    "plt.show()\n"
   ]
  },
  {
   "cell_type": "code",
   "execution_count": null,
   "metadata": {},
   "outputs": [],
   "source": [
    "import os\n",
    "\n",
    "overlay_folder = \"corner_overlays\"\n",
    "os.makedirs(overlay_folder, exist_ok=True)\n",
    "\n",
    "for i in range(len(objpoints)):\n",
    "    img = cv2.imread(image_files[i])\n",
    "    \n",
    "    projected_points, _ = cv2.projectPoints(\n",
    "        objpoints[i], rvecs[i], tvecs[i],\n",
    "        cameraMatrix, distCoeffs\n",
    "    )\n",
    "    projected_points = projected_points.reshape(-1,2)\n",
    "\n",
    "    \n",
    "    detected_points = imgpoints[i].reshape(-1,2)\n",
    "\n",
    "\n",
    "    for (dx, dy) in detected_points:\n",
    "        cv2.circle(img, (int(dx), int(dy)), 5, (0,255,0), -1)\n",
    "\n",
    "    \n",
    "    for (px, py) in projected_points:\n",
    "        cv2.circle(img, (int(px), int(py)), 3, (0,0,255), -1)\n",
    "\n",
    "    out_name = os.path.join(overlay_folder, f\"corner_overlay_{i+1}.jpg\")\n",
    "    cv2.imwrite(out_name, img)\n"
   ]
  },
  {
   "cell_type": "markdown",
   "metadata": {},
   "source": [
    "“The re-projection error is computed by taking each detected 2D corner (x_det, y_det), projecting its corresponding 3D point using the estimated camera parameters to get (x_proj, y_proj), and measuring their Euclidean distance. This error is then averaged across all corners in an image to give a per-image metric, and further averaged across all images to get a global mean.”"
   ]
  },
  {
   "cell_type": "code",
   "execution_count": null,
   "metadata": {},
   "outputs": [
    {
     "name": "stdout",
     "output_type": "stream",
     "text": [
      "Image 1: plane normal in camera frame = [-0.07616832 -0.14870444  0.9859439 ]\n",
      "Image 2: plane normal in camera frame = [-0.02286982  0.12383014  0.99203985]\n",
      "Image 3: plane normal in camera frame = [-0.39826969 -0.18715469  0.89797237]\n",
      "Image 4: plane normal in camera frame = [-0.34643455 -0.5281008   0.77530165]\n",
      "Image 5: plane normal in camera frame = [0.35820574 0.39861418 0.8442721 ]\n",
      "Image 6: plane normal in camera frame = [ 0.04521851 -0.32517343  0.94457267]\n",
      "Image 7: plane normal in camera frame = [-0.127789   -0.50726444  0.85226331]\n",
      "Image 8: plane normal in camera frame = [0.07201333 0.21723429 0.97345947]\n",
      "Image 9: plane normal in camera frame = [-0.09543047  0.19721068  0.97570537]\n",
      "Image 10: plane normal in camera frame = [-0.14608073  0.07386587  0.98651115]\n",
      "Image 11: plane normal in camera frame = [-0.10773352 -0.08642538  0.99041615]\n",
      "Image 12: plane normal in camera frame = [-0.3852682  -0.30920821  0.86945885]\n",
      "Image 13: plane normal in camera frame = [-0.13551126 -0.10599323  0.98508991]\n",
      "Image 14: plane normal in camera frame = [-0.09763506 -0.27445906  0.9566293 ]\n",
      "Image 15: plane normal in camera frame = [-0.36034967  0.0181408   0.93264089]\n",
      "Image 16: plane normal in camera frame = [-0.16459246 -0.36280349  0.91721478]\n",
      "Image 17: plane normal in camera frame = [ 0.03566778 -0.11054533  0.99323086]\n",
      "Image 18: plane normal in camera frame = [-0.22325174  0.06830377  0.97236478]\n",
      "Image 19: plane normal in camera frame = [-0.27140229 -0.09615202  0.95765108]\n",
      "Image 20: plane normal in camera frame = [-0.16581685  0.16012458  0.97306983]\n",
      "Image 21: plane normal in camera frame = [-0.39737418  0.19080494  0.89760082]\n",
      "Image 22: plane normal in camera frame = [-0.08327304 -0.12752646  0.98833324]\n",
      "Image 23: plane normal in camera frame = [-0.1031461  -0.40167045  0.909957  ]\n",
      "Image 24: plane normal in camera frame = [ 0.18876582 -0.0663596   0.97977746]\n",
      "Image 25: plane normal in camera frame = [0.45456233 0.40009271 0.7958008 ]\n"
     ]
    }
   ],
   "source": [
    "import numpy as np\n",
    "\n",
    "plane_normals_camera = []\n",
    "\n",
    "for i, R in enumerate(rotation_mats):\n",
    "    \n",
    "    normal_cam = R[:, 2]  \n",
    "    \n",
    "    normal_cam = normal_cam / np.linalg.norm(normal_cam)\n",
    "    plane_normals_camera.append(normal_cam)\n",
    "\n",
    "    print(f\"Image {i+1}: plane normal in camera frame = {normal_cam}\")\n"
   ]
  }
 ],
 "metadata": {
  "kernelspec": {
   "display_name": "samridh",
   "language": "python",
   "name": "python3"
  },
  "language_info": {
   "codemirror_mode": {
    "name": "ipython",
    "version": 3
   },
   "file_extension": ".py",
   "mimetype": "text/x-python",
   "name": "python",
   "nbconvert_exporter": "python",
   "pygments_lexer": "ipython3",
   "version": "3.12.0"
  }
 },
 "nbformat": 4,
 "nbformat_minor": 2
}
